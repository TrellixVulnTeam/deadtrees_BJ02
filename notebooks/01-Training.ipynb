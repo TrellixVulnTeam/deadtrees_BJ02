{
 "cells": [
  {
   "cell_type": "markdown",
   "id": "european-vacuum",
   "metadata": {},
   "source": [
    "# DeadTree Train Notebook"
   ]
  },
  {
   "cell_type": "code",
   "execution_count": null,
   "id": "royal-galaxy",
   "metadata": {},
   "outputs": [],
   "source": [
    "import torch\n",
    "import pytorch_lightning as pl\n",
    "from pytorch_lightning import Trainer\n",
    "from pytorch_lightning.callbacks import ModelCheckpoint, EarlyStopping\n",
    "from pytorch_lightning.loggers.wandb import WandbLogger\n",
    "\n",
    "import hydra\n",
    "from omegaconf import DictConfig\n",
    "\n",
    "from deadtrees.network.segmodel import SemSegment\n",
    "from deadtrees.data.deadtreedata import DeadtreesDataModule\n",
    "from deadtrees.visualization.helper import show"
   ]
  },
  {
   "cell_type": "code",
   "execution_count": null,
   "id": "detailed-clothing",
   "metadata": {},
   "outputs": [],
   "source": [
    "%matplotlib inline\n",
    "%load_ext autoreload\n",
    "%autoreload 2"
   ]
  },
  {
   "cell_type": "code",
   "execution_count": null,
   "id": "dirty-royalty",
   "metadata": {},
   "outputs": [],
   "source": [
    "print(f\"NVIDIA Cuda available:           {torch.cuda.is_available()}\")\n",
    "print(f\"PyTorch Version:                 {torch.__version__}\")\n",
    "print(f\"PyTorch Lightning Version:       {pl.__version__}\")"
   ]
  },
  {
   "cell_type": "markdown",
   "id": "final-bacon",
   "metadata": {},
   "source": [
    "## Instantiate DataModule"
   ]
  },
  {
   "cell_type": "code",
   "execution_count": null,
   "id": "younger-acrylic",
   "metadata": {},
   "outputs": [],
   "source": [
    "datamodule = DeadtreesDataModule(\n",
    "    \"../data/dataset/train/\",\n",
    "    pattern = \"train-balanced-000*.tar\",\n",
    "    pattern_extra = [\"train-negativesamples-000*.tar\", \"train-randomsamples-000*.tar\"],\n",
    "    batch_size_extra = [1, 7],\n",
    "    train_dataloader_conf = {'batch_size': 16, 'num_workers': 2},\n",
    "    val_dataloader_conf = {'batch_size': 16, 'num_workers': 2},\n",
    "    test_dataloader_conf = {'batch_size': 16, 'num_workers': 2},\n",
    ")\n",
    "datamodule.setup(in_channels=4, classes=2)"
   ]
  },
  {
   "cell_type": "markdown",
   "id": "dimensional-australia",
   "metadata": {},
   "source": [
    "## Instantiate the Model"
   ]
  },
  {
   "cell_type": "code",
   "execution_count": null,
   "id": "civic-martial",
   "metadata": {},
   "outputs": [],
   "source": [
    "train_config = DictConfig(\n",
    "    dict(learning_rate = 0.0003, \n",
    "         run_test = False,\n",
    "        )\n",
    ")\n",
    "\n",
    "network_config = DictConfig(\n",
    "    dict(\n",
    "        # model definitions\n",
    "        architecture = 'unet',\n",
    "        encoder_name = 'resnet34',\n",
    "        encoder_depth = 5,\n",
    "        encoder_weights = \"imagenet\",\n",
    "        # data specific settings\n",
    "        classes = 2,\n",
    "        in_channels = 4,\n",
    "       )\n",
    ")\n",
    "    \n",
    "model = SemSegment(train_config, network_config)\n",
    "model.summarize(max_depth=1);"
   ]
  },
  {
   "cell_type": "markdown",
   "id": "supposed-gallery",
   "metadata": {},
   "source": [
    "## Instantiate a Trainer"
   ]
  },
  {
   "cell_type": "code",
   "execution_count": null,
   "id": "employed-audience",
   "metadata": {},
   "outputs": [],
   "source": [
    "# define some callbacks\n",
    "model_checkpoint = ModelCheckpoint(\n",
    "    monitor = \"val/total_loss\",\n",
    "    mode = \"min\",\n",
    "    save_top_k = 1,\n",
    "    dirpath = \"checkpoints/\",\n",
    "    filename = \"{epoch:02d}\"\n",
    ")\n",
    "\n",
    "early_stopping = EarlyStopping(\n",
    "    monitor = \"val/total_loss\",\n",
    "    mode = \"min\",\n",
    "    patience = 10,\n",
    ")\n",
    "\n",
    "# define the Weights&Biases logger\n",
    "wandb_logger = WandbLogger(\n",
    "    project = \"deadtrees\",\n",
    "    offline = False,\n",
    "    job_type = \"train\",\n",
    "    group = \"\",\n",
    "    save_dir = \".\",\n",
    ")"
   ]
  },
  {
   "cell_type": "code",
   "execution_count": null,
   "id": "offensive-missile",
   "metadata": {},
   "outputs": [],
   "source": [
    "EPOCHS = 10"
   ]
  },
  {
   "cell_type": "code",
   "execution_count": null,
   "id": "fifth-margin",
   "metadata": {},
   "outputs": [],
   "source": [
    "trainer = Trainer(\n",
    "    gpus=1,\n",
    "    min_epochs=1,\n",
    "    max_epochs=EPOCHS,\n",
    "    precision=16,\n",
    "    progress_bar_refresh_rate=10,\n",
    "    terminate_on_nan=True,\n",
    "    callbacks=[model_checkpoint, early_stopping],\n",
    "    logger=[wandb_logger],\n",
    "    )"
   ]
  },
  {
   "cell_type": "markdown",
   "id": "thirty-surge",
   "metadata": {},
   "source": [
    "## Some experiments\n",
    "\n",
    "> **NOTE:**\n",
    "> Currently not working - skip ?!?"
   ]
  },
  {
   "cell_type": "raw",
   "id": "fb633cde-106d-472a-a22d-7eaa25ceafc3",
   "metadata": {},
   "source": [
    "# Run learning rate finder\n",
    "lr_finder = trainer.tuner.lr_find(model, min_lr=1e-07, max_lr=0.01, num_training=4, datamodule=datamodule)\n",
    "lr_finder.results"
   ]
  },
  {
   "cell_type": "raw",
   "id": "rental-daniel",
   "metadata": {},
   "source": [
    "# Plot with\n",
    "fig = lr_finder.plot(suggest=True)\n",
    "fig.show()"
   ]
  },
  {
   "cell_type": "raw",
   "id": "circular-tonight",
   "metadata": {},
   "source": [
    "# Pick point based on plot, or get suggestion\n",
    "new_lr = lr_finder.suggestion()\n",
    "\n",
    "# update hparams of the model\n",
    "model.hparams.learning_rate = new_lr"
   ]
  },
  {
   "cell_type": "markdown",
   "id": "chubby-ending",
   "metadata": {},
   "source": [
    "## Train the model"
   ]
  },
  {
   "cell_type": "code",
   "execution_count": null,
   "id": "floppy-shannon",
   "metadata": {},
   "outputs": [],
   "source": [
    "trainer.fit(model=model, datamodule=datamodule)"
   ]
  },
  {
   "cell_type": "markdown",
   "id": "assumed-parliament",
   "metadata": {},
   "source": [
    "## Test the model"
   ]
  },
  {
   "cell_type": "code",
   "execution_count": null,
   "id": "inside-collar",
   "metadata": {},
   "outputs": [],
   "source": [
    "trainer.test()"
   ]
  },
  {
   "cell_type": "code",
   "execution_count": null,
   "id": "breathing-internet",
   "metadata": {},
   "outputs": [],
   "source": []
  },
  {
   "cell_type": "code",
   "execution_count": null,
   "id": "assumed-dealing",
   "metadata": {},
   "outputs": [],
   "source": []
  }
 ],
 "metadata": {
  "kernelspec": {
   "display_name": "Python 3 (ipykernel)",
   "language": "python",
   "name": "python3"
  },
  "language_info": {
   "codemirror_mode": {
    "name": "ipython",
    "version": 3
   },
   "file_extension": ".py",
   "mimetype": "text/x-python",
   "name": "python",
   "nbconvert_exporter": "python",
   "pygments_lexer": "ipython3",
   "version": "3.8.10"
  }
 },
 "nbformat": 4,
 "nbformat_minor": 5
}
